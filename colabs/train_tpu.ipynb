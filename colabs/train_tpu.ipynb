{
  "nbformat": 4,
  "nbformat_minor": 0,
  "metadata": {
    "colab": {
      "provenance": [],
      "authorship_tag": "ABX9TyNUB2yqlZhgg1C7s++OXjIu",
      "include_colab_link": true
    },
    "kernelspec": {
      "name": "python3",
      "display_name": "Python 3"
    },
    "language_info": {
      "name": "python"
    }
  },
  "cells": [
    {
      "cell_type": "markdown",
      "metadata": {
        "id": "view-in-github",
        "colab_type": "text"
      },
      "source": [
        "<a href=\"https://colab.research.google.com/github/ficle-fr/pix2pix_change_style/blob/colabs/colabs/train_tpu.ipynb\" target=\"_parent\"><img src=\"https://colab.research.google.com/assets/colab-badge.svg\" alt=\"Open In Colab\"/></a>"
      ]
    },
    {
      "cell_type": "code",
      "execution_count": null,
      "metadata": {
        "id": "R5JhHvsGpj9Z"
      },
      "outputs": [],
      "source": [
        "import tensorflow as tf\n",
        "print(\"Tensorflow version \" + tf.__version__)\n",
        "\n",
        "try:\n",
        "  tpu = tf.distribute.cluster_resolver.TPUClusterResolver()  # TPU detection\n",
        "  print(f'Running on a TPU w/{tpu.get_num_accelerators()[\"TPU\"]} cores')\n",
        "except ValueError:\n",
        "  raise BaseException('ERROR: Not connected to a TPU runtime; please see the previous cell in this notebook for instructions!')\n",
        "\n",
        "tf.config.experimental_connect_to_cluster(tpu)\n",
        "tf.tpu.experimental.initialize_tpu_system(tpu)\n",
        "tpu_strategy = tf.distribute.TPUStrategy(tpu)"
      ]
    },
    {
      "cell_type": "code",
      "source": [
        "!git clone https://github.com/ficle-fr/pix2pix_change_style.git"
      ],
      "metadata": {
        "id": "MevK58moGgaK"
      },
      "execution_count": null,
      "outputs": []
    },
    {
      "cell_type": "code",
      "source": [
        "!sudo apt install libcairo2-dev pkg-config python3-dev\n",
        "!pip install pycairo"
      ],
      "metadata": {
        "id": "AEFKYzAJJAHY"
      },
      "execution_count": null,
      "outputs": []
    },
    {
      "cell_type": "code",
      "source": [
        "import tensorflow as tf\n",
        "import sys\n",
        "sys.path.append('/content/pix2pix_change_style')\n",
        "from train import fit\n",
        "\n",
        "from generator import Generator, generator_loss\n",
        "from descriminator import Discriminator, discriminator_loss\n",
        "\n",
        "from img_generator import img_pair_gen1\n"
      ],
      "metadata": {
        "id": "tjpdN2AkIbQh"
      },
      "execution_count": null,
      "outputs": []
    },
    {
      "cell_type": "code",
      "source": [
        "generator = Generator([256, 256, 3], 3)\n",
        "discriminator = Discriminator([256, 256, 3])\n",
        "\n",
        "generator_optimizer = tf.keras.optimizers.Adam(2e-4, beta_1=0.5)\n",
        "discriminator_optimizer = tf.keras.optimizers.Adam(2e-4, beta_1=0.5)\n",
        "def checkpoint_callback():\n",
        "  pass\n",
        "\n",
        "BATCH_SIZE = 5\n",
        "dataset = tf.data.Dataset.from_generator(\n",
        "    lambda: img_pair_gen1(256, 256), output_signature = (\n",
        "        tf.TensorSpec(shape = (256, 256, 3), dtype = tf.float32),\n",
        "        tf.TensorSpec(shape = (256, 256, 3), dtype = tf.float32)))\n",
        "dataset = dataset.batch(BATCH_SIZE)\n",
        "\n",
        "fit(generator, discriminator, generator_optimizer, discriminator_optimizer,\n",
        "    dataset, dataset, 40, 50, checkpoint_callback)\n"
      ],
      "metadata": {
        "id": "skArBXPLMFI2"
      },
      "execution_count": null,
      "outputs": []
    }
  ]
}