{
  "nbformat": 4,
  "nbformat_minor": 0,
  "metadata": {
    "colab": {
      "provenance": [],
      "include_colab_link": true
    },
    "kernelspec": {
      "name": "python3",
      "display_name": "Python 3"
    },
    "language_info": {
      "name": "python"
    },
    "accelerator": "TPU"
  },
  "cells": [
    {
      "cell_type": "markdown",
      "metadata": {
        "id": "view-in-github",
        "colab_type": "text"
      },
      "source": [
        "<a href=\"https://colab.research.google.com/github/ficle-fr/pix2pix_change_style/blob/colabs/colabs/train_tpu.ipynb\" target=\"_parent\"><img src=\"https://colab.research.google.com/assets/colab-badge.svg\" alt=\"Open In Colab\"/></a>"
      ]
    },
    {
      "cell_type": "code",
      "source": [
        "!wget https://raw.githubusercontent.com/ficle-fr/pix2pix_change_style/main/common.py\n",
        "!wget https://raw.githubusercontent.com/ficle-fr/pix2pix_change_style/main/descriminator.py\n",
        "!wget https://raw.githubusercontent.com/ficle-fr/pix2pix_change_style/main/generator.py\n",
        "!wget https://raw.githubusercontent.com/ficle-fr/pix2pix_change_style/main/img_generator.py\n",
        "!wget https://raw.githubusercontent.com/ficle-fr/pix2pix_change_style/main/train.py\n",
        "\n",
        "#Currently from the colab branch\n",
        "!wget https://raw.githubusercontent.com/ficle-fr/pix2pix_change_style/colabs/colabs/read_write_db.py\n"
      ],
      "metadata": {
        "id": "MevK58moGgaK"
      },
      "execution_count": null,
      "outputs": []
    },
    {
      "cell_type": "code",
      "source": [
        "!sudo apt install libcairo2-dev pkg-config python3-dev\n",
        "!pip install pycairo"
      ],
      "metadata": {
        "id": "AEFKYzAJJAHY"
      },
      "execution_count": null,
      "outputs": []
    },
    {
      "cell_type": "code",
      "source": [
        "import tensorflow as tf\n",
        "\n",
        "from generator import Generator, generator_loss\n",
        "from descriminator import Discriminator, discriminator_loss\n",
        "\n",
        "from img_generator import img_pair_gen1\n",
        "from read_write_db import write, read\n"
      ],
      "metadata": {
        "id": "tjpdN2AkIbQh"
      },
      "execution_count": null,
      "outputs": []
    },
    {
      "cell_type": "code",
      "source": [
        "write(\"temp_records100.tfrecords\", 100)"
      ],
      "metadata": {
        "id": "0boh29yiXbWa"
      },
      "execution_count": null,
      "outputs": []
    },
    {
      "cell_type": "code",
      "source": [
        "dataset = read(\"./temp_records100.tfrecords\")\n",
        "BATCH_SIZE = 5\n",
        "dataset = dataset.batch(BATCH_SIZE)"
      ],
      "metadata": {
        "id": "tKemKt00YO4a"
      },
      "execution_count": null,
      "outputs": []
    },
    {
      "cell_type": "code",
      "source": [
        "print(\"Tensorflow version \" + tf.__version__)\n",
        "\n",
        "try:\n",
        "  tpu = tf.distribute.cluster_resolver.TPUClusterResolver()  # TPU detection\n",
        "  print(\"Total number of TPU cores:\", tpu.get_tpu_system_metadata().num_cores)\n",
        "except ValueError:\n",
        "  raise BaseException('ERROR: Not connected to a TPU runtime; please see the previous cell in this notebook for instructions!')\n",
        "\n",
        "tf.config.experimental_connect_to_cluster(tpu)\n",
        "tf.tpu.experimental.initialize_tpu_system(tpu)\n",
        "tpu_strategy = tf.distribute.TPUStrategy(tpu)"
      ],
      "metadata": {
        "id": "3nDWOKmXNZSg"
      },
      "execution_count": null,
      "outputs": []
    },
    {
      "cell_type": "code",
      "source": [
        "@tf.function\n",
        "def train_multiple_steps(generator, discriminator,\n",
        "                         generator_optimizer, discriminator_optimizer,\n",
        "                         dataset):\n",
        "    def step_fn(input):\n",
        "        input_image, target = input\n",
        "        with tf.GradientTape() as gen_tape, tf.GradientTape() as disc_tape:\n",
        "            gen_output = generator(input_image, training = True)\n",
        "\n",
        "            disc_real_output = discriminator([input_image, target], training = True)\n",
        "            disc_generated_output = discriminator([input_image, gen_output], training=True)\n",
        "\n",
        "            gen_total_loss, gen_gan_loss, gen_l1_loss = generator_loss(disc_generated_output, gen_output, target)\n",
        "            disc_loss = discriminator_loss(disc_real_output, disc_generated_output)\n",
        "\n",
        "            generator_gradients = gen_tape.gradient(gen_total_loss,\n",
        "                                                    generator.trainable_variables)\n",
        "            discriminator_gradients = disc_tape.gradient(disc_loss,\n",
        "                                                        discriminator.trainable_variables)\n",
        "\n",
        "            generator_optimizer.apply_gradients(zip(generator_gradients,\n",
        "                                                    generator.trainable_variables))\n",
        "            discriminator_optimizer.apply_gradients(zip(discriminator_gradients,\n",
        "                                                        discriminator.trainable_variables))\n",
        "\n",
        "    for input in dataset:\n",
        "        start = time.time()\n",
        "        tpu_strategy.run(step_fn, args=(input))\n",
        "        print(f'\\nTraining time: {time.time()-start:.2f} sec\\n')"
      ],
      "metadata": {
        "id": "fmFQCHLy_j8s"
      },
      "execution_count": null,
      "outputs": []
    },
    {
      "cell_type": "code",
      "source": [
        "with tpu_strategy.scope():\n",
        "    generator = Generator([256, 256, 3], 3)\n",
        "    discriminator = Discriminator([256, 256, 3])\n",
        "\n",
        "    generator_optimizer = tf.keras.optimizers.Adam(2e-4, beta_1=0.5)\n",
        "    discriminator_optimizer = tf.keras.optimizers.Adam(2e-4, beta_1=0.5)\n",
        "\n",
        "train_multiple_steps(generator, discriminator,\n",
        "                    generator_optimizer, discriminator_optimizer,\n",
        "                    dataset)"
      ],
      "metadata": {
        "id": "skArBXPLMFI2"
      },
      "execution_count": null,
      "outputs": []
    }
  ]
}