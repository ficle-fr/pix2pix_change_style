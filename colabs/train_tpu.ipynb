{
  "nbformat": 4,
  "nbformat_minor": 0,
  "metadata": {
    "colab": {
      "provenance": [],
      "authorship_tag": "ABX9TyMc409YVKEnVrR17s98wkxp",
      "include_colab_link": true
    },
    "kernelspec": {
      "name": "python3",
      "display_name": "Python 3"
    },
    "language_info": {
      "name": "python"
    },
    "accelerator": "TPU"
  },
  "cells": [
    {
      "cell_type": "markdown",
      "metadata": {
        "id": "view-in-github",
        "colab_type": "text"
      },
      "source": [
        "<a href=\"https://colab.research.google.com/github/ficle-fr/pix2pix_change_style/blob/colabs/colabs/train_tpu.ipynb\" target=\"_parent\"><img src=\"https://colab.research.google.com/assets/colab-badge.svg\" alt=\"Open In Colab\"/></a>"
      ]
    },
    {
      "cell_type": "code",
      "source": [
        "!wget https://raw.githubusercontent.com/ficle-fr/pix2pix_change_style/main/common.py\n",
        "!wget https://raw.githubusercontent.com/ficle-fr/pix2pix_change_style/main/descriminator.py\n",
        "!wget https://raw.githubusercontent.com/ficle-fr/pix2pix_change_style/main/generator.py\n",
        "!wget https://raw.githubusercontent.com/ficle-fr/pix2pix_change_style/main/img_generator.py\n",
        "!wget https://raw.githubusercontent.com/ficle-fr/pix2pix_change_style/main/train.py\n",
        "\n",
        "#Currently from the colab branch\n",
        "!wget https://raw.githubusercontent.com/ficle-fr/pix2pix_change_style/colabs/colabs/read_write_db.py\n"
      ],
      "metadata": {
        "id": "MevK58moGgaK"
      },
      "execution_count": null,
      "outputs": []
    },
    {
      "cell_type": "code",
      "source": [
        "!sudo apt install libcairo2-dev pkg-config python3-dev\n",
        "!pip install pycairo"
      ],
      "metadata": {
        "id": "AEFKYzAJJAHY"
      },
      "execution_count": null,
      "outputs": []
    },
    {
      "cell_type": "code",
      "source": [
        "import tensorflow as tf\n",
        "import sys\n",
        "#sys.path.append('/content/pix2pix_change_style')\n",
        "from train import fit, train_step\n",
        "\n",
        "from generator import Generator, generator_loss\n",
        "from descriminator import Discriminator, discriminator_loss\n",
        "\n",
        "from img_generator import img_pair_gen1\n",
        "from read_write_db import write, read\n"
      ],
      "metadata": {
        "id": "tjpdN2AkIbQh"
      },
      "execution_count": null,
      "outputs": []
    },
    {
      "cell_type": "code",
      "source": [
        "write(\"temp_records.tfrecords\", 10)"
      ],
      "metadata": {
        "id": "0boh29yiXbWa"
      },
      "execution_count": null,
      "outputs": []
    },
    {
      "cell_type": "code",
      "source": [
        "dataset = read(\"./temp_records.tfrecords\")\n",
        "print(dataset)\n",
        "for _, data_batch in zip(range(2), dataset):\n",
        "    print(data_batch)\n"
      ],
      "metadata": {
        "id": "tKemKt00YO4a"
      },
      "execution_count": null,
      "outputs": []
    },
    {
      "cell_type": "code",
      "source": [
        "generator = Generator([256, 256, 3], 3)\n",
        "discriminator = Discriminator([256, 256, 3])\n",
        "\n",
        "generator_optimizer = tf.keras.optimizers.Adam(2e-4, beta_1=0.5)\n",
        "discriminator_optimizer = tf.keras.optimizers.Adam(2e-4, beta_1=0.5)\n",
        "def checkpoint_callback():\n",
        "  pass\n",
        "\n",
        "BATCH_SIZE = 5\n",
        "dataset = tf.data.Dataset.from_generator(\n",
        "    lambda: img_pair_gen1(256, 256), output_signature = (\n",
        "        tf.TensorSpec(shape = (256, 256, 3), dtype = tf.float32),\n",
        "        tf.TensorSpec(shape = (256, 256, 3), dtype = tf.float32)))\n",
        "dataset = dataset.batch(BATCH_SIZE)\n",
        "\n",
        "#fit(generator, discriminator, generator_optimizer, discriminator_optimizer,\n",
        "#    dataset, dataset, 40, 50, checkpoint_callback)\n",
        "fit(generator, discriminator, generator_optimizer, discriminator_optimizer,\n",
        "    dataset, dataset, 2, 10, checkpoint_callback)\n"
      ],
      "metadata": {
        "id": "skArBXPLMFI2"
      },
      "execution_count": null,
      "outputs": []
    }
  ]
}